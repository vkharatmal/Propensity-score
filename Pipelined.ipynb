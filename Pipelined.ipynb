{
 "cells": [
  {
   "cell_type": "code",
   "execution_count": 2,
   "id": "00b8478b",
   "metadata": {},
   "outputs": [],
   "source": [
    "import pandas as pd\n",
    "import numpy as np\n",
    "from imblearn.pipeline import Pipeline\n",
    "import matplotlib.pyplot as plt\n",
    "from sklearn.model_selection import cross_validate\n",
    "from sklearn.model_selection import RepeatedStratifiedKFold\n",
    "from sklearn.ensemble import AdaBoostClassifier, RandomForestClassifier\n",
    "import seaborn as sns\n",
    "from sklearn.model_selection import train_test_split\n",
    "from sklearn.metrics import confusion_matrix\n",
    "from sklearn import metrics\n",
    "import lightgbm as lgb\n",
    "sns.set(style='white')"
   ]
  },
  {
   "cell_type": "code",
   "execution_count": 3,
   "id": "0dbe1767",
   "metadata": {},
   "outputs": [],
   "source": [
    "df=pd.read_csv('Product Training and Testing.csv')"
   ]
  },
  {
   "cell_type": "code",
   "execution_count": 4,
   "id": "2e1042e4",
   "metadata": {},
   "outputs": [
    {
     "data": {
      "text/html": [
       "<div>\n",
       "<style scoped>\n",
       "    .dataframe tbody tr th:only-of-type {\n",
       "        vertical-align: middle;\n",
       "    }\n",
       "\n",
       "    .dataframe tbody tr th {\n",
       "        vertical-align: top;\n",
       "    }\n",
       "\n",
       "    .dataframe thead th {\n",
       "        text-align: right;\n",
       "    }\n",
       "</style>\n",
       "<table border=\"1\" class=\"dataframe\">\n",
       "  <thead>\n",
       "    <tr style=\"text-align: right;\">\n",
       "      <th></th>\n",
       "      <th>Identifier</th>\n",
       "      <th>Product Selection</th>\n",
       "      <th>Product_Activation</th>\n",
       "      <th>R_rank_norm</th>\n",
       "      <th>F_rank_norm</th>\n",
       "      <th>M_rank_norm</th>\n",
       "      <th>M2_rank_norm</th>\n",
       "      <th>RFM_Score</th>\n",
       "      <th>RFM2_Score</th>\n",
       "      <th>Customer_segment</th>\n",
       "      <th>...</th>\n",
       "      <th>ENT_OCCUPATION_Professional</th>\n",
       "      <th>ENT_OCCUPATION_Public</th>\n",
       "      <th>ENT_OCCUPATION_Retired</th>\n",
       "      <th>ENT_OCCUPATION_Student</th>\n",
       "      <th>age_range_18-29</th>\n",
       "      <th>age_range_30-39</th>\n",
       "      <th>age_range_40-49</th>\n",
       "      <th>age_range_50-59</th>\n",
       "      <th>age_range_60-69</th>\n",
       "      <th>age_range_70+</th>\n",
       "    </tr>\n",
       "  </thead>\n",
       "  <tbody>\n",
       "    <tr>\n",
       "      <th>0</th>\n",
       "      <td>110354</td>\n",
       "      <td>1</td>\n",
       "      <td>0</td>\n",
       "      <td>34</td>\n",
       "      <td>68</td>\n",
       "      <td>37</td>\n",
       "      <td>68</td>\n",
       "      <td>45</td>\n",
       "      <td>63</td>\n",
       "      <td>1</td>\n",
       "      <td>...</td>\n",
       "      <td>0</td>\n",
       "      <td>0</td>\n",
       "      <td>0</td>\n",
       "      <td>0</td>\n",
       "      <td>0</td>\n",
       "      <td>0</td>\n",
       "      <td>0</td>\n",
       "      <td>1</td>\n",
       "      <td>0</td>\n",
       "      <td>0</td>\n",
       "    </tr>\n",
       "    <tr>\n",
       "      <th>1</th>\n",
       "      <td>110355</td>\n",
       "      <td>1</td>\n",
       "      <td>0</td>\n",
       "      <td>83</td>\n",
       "      <td>24</td>\n",
       "      <td>19</td>\n",
       "      <td>53</td>\n",
       "      <td>30</td>\n",
       "      <td>49</td>\n",
       "      <td>1</td>\n",
       "      <td>...</td>\n",
       "      <td>0</td>\n",
       "      <td>0</td>\n",
       "      <td>0</td>\n",
       "      <td>0</td>\n",
       "      <td>0</td>\n",
       "      <td>1</td>\n",
       "      <td>0</td>\n",
       "      <td>0</td>\n",
       "      <td>0</td>\n",
       "      <td>0</td>\n",
       "    </tr>\n",
       "    <tr>\n",
       "      <th>2</th>\n",
       "      <td>110357</td>\n",
       "      <td>1</td>\n",
       "      <td>0</td>\n",
       "      <td>62</td>\n",
       "      <td>55</td>\n",
       "      <td>53</td>\n",
       "      <td>59</td>\n",
       "      <td>55</td>\n",
       "      <td>58</td>\n",
       "      <td>2</td>\n",
       "      <td>...</td>\n",
       "      <td>0</td>\n",
       "      <td>0</td>\n",
       "      <td>0</td>\n",
       "      <td>0</td>\n",
       "      <td>0</td>\n",
       "      <td>1</td>\n",
       "      <td>0</td>\n",
       "      <td>0</td>\n",
       "      <td>0</td>\n",
       "      <td>0</td>\n",
       "    </tr>\n",
       "    <tr>\n",
       "      <th>3</th>\n",
       "      <td>110358</td>\n",
       "      <td>1</td>\n",
       "      <td>0</td>\n",
       "      <td>85</td>\n",
       "      <td>24</td>\n",
       "      <td>19</td>\n",
       "      <td>53</td>\n",
       "      <td>30</td>\n",
       "      <td>50</td>\n",
       "      <td>1</td>\n",
       "      <td>...</td>\n",
       "      <td>0</td>\n",
       "      <td>0</td>\n",
       "      <td>0</td>\n",
       "      <td>0</td>\n",
       "      <td>1</td>\n",
       "      <td>0</td>\n",
       "      <td>0</td>\n",
       "      <td>0</td>\n",
       "      <td>0</td>\n",
       "      <td>0</td>\n",
       "    </tr>\n",
       "    <tr>\n",
       "      <th>4</th>\n",
       "      <td>110359</td>\n",
       "      <td>1</td>\n",
       "      <td>0</td>\n",
       "      <td>58</td>\n",
       "      <td>73</td>\n",
       "      <td>82</td>\n",
       "      <td>77</td>\n",
       "      <td>76</td>\n",
       "      <td>73</td>\n",
       "      <td>0</td>\n",
       "      <td>...</td>\n",
       "      <td>0</td>\n",
       "      <td>0</td>\n",
       "      <td>0</td>\n",
       "      <td>0</td>\n",
       "      <td>0</td>\n",
       "      <td>1</td>\n",
       "      <td>0</td>\n",
       "      <td>0</td>\n",
       "      <td>0</td>\n",
       "      <td>0</td>\n",
       "    </tr>\n",
       "  </tbody>\n",
       "</table>\n",
       "<p>5 rows × 32 columns</p>\n",
       "</div>"
      ],
      "text/plain": [
       "   Identifier  Product Selection  Product_Activation  R_rank_norm  \\\n",
       "0      110354                  1                   0           34   \n",
       "1      110355                  1                   0           83   \n",
       "2      110357                  1                   0           62   \n",
       "3      110358                  1                   0           85   \n",
       "4      110359                  1                   0           58   \n",
       "\n",
       "   F_rank_norm  M_rank_norm  M2_rank_norm  RFM_Score  RFM2_Score  \\\n",
       "0           68           37            68         45          63   \n",
       "1           24           19            53         30          49   \n",
       "2           55           53            59         55          58   \n",
       "3           24           19            53         30          50   \n",
       "4           73           82            77         76          73   \n",
       "\n",
       "   Customer_segment  ...  ENT_OCCUPATION_Professional  ENT_OCCUPATION_Public  \\\n",
       "0                 1  ...                            0                      0   \n",
       "1                 1  ...                            0                      0   \n",
       "2                 2  ...                            0                      0   \n",
       "3                 1  ...                            0                      0   \n",
       "4                 0  ...                            0                      0   \n",
       "\n",
       "   ENT_OCCUPATION_Retired  ENT_OCCUPATION_Student  age_range_18-29  \\\n",
       "0                       0                       0                0   \n",
       "1                       0                       0                0   \n",
       "2                       0                       0                0   \n",
       "3                       0                       0                1   \n",
       "4                       0                       0                0   \n",
       "\n",
       "   age_range_30-39  age_range_40-49  age_range_50-59  age_range_60-69  \\\n",
       "0                0                0                1                0   \n",
       "1                1                0                0                0   \n",
       "2                1                0                0                0   \n",
       "3                0                0                0                0   \n",
       "4                1                0                0                0   \n",
       "\n",
       "   age_range_70+  \n",
       "0              0  \n",
       "1              0  \n",
       "2              0  \n",
       "3              0  \n",
       "4              0  \n",
       "\n",
       "[5 rows x 32 columns]"
      ]
     },
     "execution_count": 4,
     "metadata": {},
     "output_type": "execute_result"
    }
   ],
   "source": [
    "df.head()"
   ]
  },
  {
   "cell_type": "code",
   "execution_count": 5,
   "id": "85f7d803",
   "metadata": {},
   "outputs": [
    {
     "data": {
      "text/plain": [
       "0    645822\n",
       "1     43231\n",
       "Name: Product_Activation, dtype: int64"
      ]
     },
     "execution_count": 5,
     "metadata": {},
     "output_type": "execute_result"
    }
   ],
   "source": [
    "df.Product_Activation.value_counts()"
   ]
  },
  {
   "cell_type": "code",
   "execution_count": 6,
   "id": "e6facf35",
   "metadata": {
    "scrolled": true
   },
   "outputs": [
    {
     "data": {
      "text/plain": [
       "Identifier                      0\n",
       "Product Selection               0\n",
       "Product_Activation              0\n",
       "R_rank_norm                     0\n",
       "F_rank_norm                     0\n",
       "M_rank_norm                     0\n",
       "M2_rank_norm                    0\n",
       "RFM_Score                       0\n",
       "RFM2_Score                      0\n",
       "Customer_segment                0\n",
       "Customer_segment2               0\n",
       "ENT_SEX_F                       0\n",
       "ENT_SEX_M                       0\n",
       "ENT_SEX_Other                   0\n",
       "ENT_MARITAL_STATUS_M            0\n",
       "ENT_MARITAL_STATUS_Other        0\n",
       "ENT_MARITAL_STATUS_U            0\n",
       "ENT_OCCUPATION_Government       0\n",
       "ENT_OCCUPATION_Housewife        0\n",
       "ENT_OCCUPATION_Other            0\n",
       "ENT_OCCUPATION_PUBLIC SECTOR    0\n",
       "ENT_OCCUPATION_Private          0\n",
       "ENT_OCCUPATION_Professional     0\n",
       "ENT_OCCUPATION_Public           0\n",
       "ENT_OCCUPATION_Retired          0\n",
       "ENT_OCCUPATION_Student          0\n",
       "age_range_18-29                 0\n",
       "age_range_30-39                 0\n",
       "age_range_40-49                 0\n",
       "age_range_50-59                 0\n",
       "age_range_60-69                 0\n",
       "age_range_70+                   0\n",
       "dtype: int64"
      ]
     },
     "execution_count": 6,
     "metadata": {},
     "output_type": "execute_result"
    }
   ],
   "source": [
    "df.isnull().sum()"
   ]
  },
  {
   "cell_type": "code",
   "execution_count": 7,
   "id": "9c6a62be",
   "metadata": {},
   "outputs": [
    {
     "data": {
      "text/plain": [
       "14.938863315676251"
      ]
     },
     "execution_count": 7,
     "metadata": {},
     "output_type": "execute_result"
    }
   ],
   "source": [
    "df.Product_Activation.value_counts()[0]/df.Product_Activation.value_counts()[1]"
   ]
  },
  {
   "cell_type": "markdown",
   "id": "9bc0b1ed",
   "metadata": {},
   "source": [
    "#### Data ratio is 15:1 which is highly imbalanced"
   ]
  },
  {
   "cell_type": "raw",
   "id": "e9009f97",
   "metadata": {},
   "source": [
    "smoten=SMOTEENN()\n",
    "x_data,y_data=smoten.fit_resample(X=df.drop(columns='Product_Activation'),y=df.Product_Activation)"
   ]
  },
  {
   "cell_type": "code",
   "execution_count": 8,
   "id": "8f3a583e",
   "metadata": {},
   "outputs": [],
   "source": [
    "import numpy as np\n",
    "a=np.random.choice(df[df.Product_Activation==0].index,\n",
    "                   size=len(df[df.Product_Activation==1]),replace=False)"
   ]
  },
  {
   "cell_type": "code",
   "execution_count": 9,
   "id": "67051034",
   "metadata": {},
   "outputs": [],
   "source": [
    "undersampled_df_zero=pd.DataFrame(df,index=a)"
   ]
  },
  {
   "cell_type": "code",
   "execution_count": 10,
   "id": "41d4daeb",
   "metadata": {},
   "outputs": [
    {
     "data": {
      "text/html": [
       "<div>\n",
       "<style scoped>\n",
       "    .dataframe tbody tr th:only-of-type {\n",
       "        vertical-align: middle;\n",
       "    }\n",
       "\n",
       "    .dataframe tbody tr th {\n",
       "        vertical-align: top;\n",
       "    }\n",
       "\n",
       "    .dataframe thead th {\n",
       "        text-align: right;\n",
       "    }\n",
       "</style>\n",
       "<table border=\"1\" class=\"dataframe\">\n",
       "  <thead>\n",
       "    <tr style=\"text-align: right;\">\n",
       "      <th></th>\n",
       "      <th>Identifier</th>\n",
       "      <th>Product Selection</th>\n",
       "      <th>Product_Activation</th>\n",
       "      <th>R_rank_norm</th>\n",
       "      <th>F_rank_norm</th>\n",
       "      <th>M_rank_norm</th>\n",
       "      <th>M2_rank_norm</th>\n",
       "      <th>RFM_Score</th>\n",
       "      <th>RFM2_Score</th>\n",
       "      <th>Customer_segment</th>\n",
       "      <th>...</th>\n",
       "      <th>ENT_OCCUPATION_Professional</th>\n",
       "      <th>ENT_OCCUPATION_Public</th>\n",
       "      <th>ENT_OCCUPATION_Retired</th>\n",
       "      <th>ENT_OCCUPATION_Student</th>\n",
       "      <th>age_range_18-29</th>\n",
       "      <th>age_range_30-39</th>\n",
       "      <th>age_range_40-49</th>\n",
       "      <th>age_range_50-59</th>\n",
       "      <th>age_range_60-69</th>\n",
       "      <th>age_range_70+</th>\n",
       "    </tr>\n",
       "  </thead>\n",
       "  <tbody>\n",
       "    <tr>\n",
       "      <th>219326</th>\n",
       "      <td>352564</td>\n",
       "      <td>1</td>\n",
       "      <td>0</td>\n",
       "      <td>83</td>\n",
       "      <td>24</td>\n",
       "      <td>27</td>\n",
       "      <td>66</td>\n",
       "      <td>34</td>\n",
       "      <td>57</td>\n",
       "      <td>1</td>\n",
       "      <td>...</td>\n",
       "      <td>0</td>\n",
       "      <td>0</td>\n",
       "      <td>0</td>\n",
       "      <td>0</td>\n",
       "      <td>1</td>\n",
       "      <td>0</td>\n",
       "      <td>0</td>\n",
       "      <td>0</td>\n",
       "      <td>0</td>\n",
       "      <td>0</td>\n",
       "    </tr>\n",
       "    <tr>\n",
       "      <th>247532</th>\n",
       "      <td>383425</td>\n",
       "      <td>1</td>\n",
       "      <td>0</td>\n",
       "      <td>94</td>\n",
       "      <td>24</td>\n",
       "      <td>55</td>\n",
       "      <td>26</td>\n",
       "      <td>52</td>\n",
       "      <td>36</td>\n",
       "      <td>2</td>\n",
       "      <td>...</td>\n",
       "      <td>0</td>\n",
       "      <td>0</td>\n",
       "      <td>0</td>\n",
       "      <td>0</td>\n",
       "      <td>0</td>\n",
       "      <td>0</td>\n",
       "      <td>1</td>\n",
       "      <td>0</td>\n",
       "      <td>0</td>\n",
       "      <td>0</td>\n",
       "    </tr>\n",
       "    <tr>\n",
       "      <th>285838</th>\n",
       "      <td>422964</td>\n",
       "      <td>0</td>\n",
       "      <td>0</td>\n",
       "      <td>42</td>\n",
       "      <td>24</td>\n",
       "      <td>9</td>\n",
       "      <td>26</td>\n",
       "      <td>18</td>\n",
       "      <td>28</td>\n",
       "      <td>1</td>\n",
       "      <td>...</td>\n",
       "      <td>0</td>\n",
       "      <td>0</td>\n",
       "      <td>0</td>\n",
       "      <td>0</td>\n",
       "      <td>0</td>\n",
       "      <td>0</td>\n",
       "      <td>0</td>\n",
       "      <td>1</td>\n",
       "      <td>0</td>\n",
       "      <td>0</td>\n",
       "    </tr>\n",
       "    <tr>\n",
       "      <th>337525</th>\n",
       "      <td>476198</td>\n",
       "      <td>1</td>\n",
       "      <td>0</td>\n",
       "      <td>97</td>\n",
       "      <td>24</td>\n",
       "      <td>50</td>\n",
       "      <td>26</td>\n",
       "      <td>50</td>\n",
       "      <td>36</td>\n",
       "      <td>2</td>\n",
       "      <td>...</td>\n",
       "      <td>0</td>\n",
       "      <td>0</td>\n",
       "      <td>0</td>\n",
       "      <td>0</td>\n",
       "      <td>1</td>\n",
       "      <td>0</td>\n",
       "      <td>0</td>\n",
       "      <td>0</td>\n",
       "      <td>0</td>\n",
       "      <td>0</td>\n",
       "    </tr>\n",
       "    <tr>\n",
       "      <th>91056</th>\n",
       "      <td>210821</td>\n",
       "      <td>1</td>\n",
       "      <td>0</td>\n",
       "      <td>25</td>\n",
       "      <td>83</td>\n",
       "      <td>85</td>\n",
       "      <td>96</td>\n",
       "      <td>76</td>\n",
       "      <td>82</td>\n",
       "      <td>0</td>\n",
       "      <td>...</td>\n",
       "      <td>0</td>\n",
       "      <td>0</td>\n",
       "      <td>0</td>\n",
       "      <td>0</td>\n",
       "      <td>1</td>\n",
       "      <td>0</td>\n",
       "      <td>0</td>\n",
       "      <td>0</td>\n",
       "      <td>0</td>\n",
       "      <td>0</td>\n",
       "    </tr>\n",
       "    <tr>\n",
       "      <th>...</th>\n",
       "      <td>...</td>\n",
       "      <td>...</td>\n",
       "      <td>...</td>\n",
       "      <td>...</td>\n",
       "      <td>...</td>\n",
       "      <td>...</td>\n",
       "      <td>...</td>\n",
       "      <td>...</td>\n",
       "      <td>...</td>\n",
       "      <td>...</td>\n",
       "      <td>...</td>\n",
       "      <td>...</td>\n",
       "      <td>...</td>\n",
       "      <td>...</td>\n",
       "      <td>...</td>\n",
       "      <td>...</td>\n",
       "      <td>...</td>\n",
       "      <td>...</td>\n",
       "      <td>...</td>\n",
       "      <td>...</td>\n",
       "      <td>...</td>\n",
       "    </tr>\n",
       "    <tr>\n",
       "      <th>615129</th>\n",
       "      <td>762403</td>\n",
       "      <td>1</td>\n",
       "      <td>0</td>\n",
       "      <td>90</td>\n",
       "      <td>55</td>\n",
       "      <td>68</td>\n",
       "      <td>26</td>\n",
       "      <td>68</td>\n",
       "      <td>44</td>\n",
       "      <td>2</td>\n",
       "      <td>...</td>\n",
       "      <td>0</td>\n",
       "      <td>0</td>\n",
       "      <td>0</td>\n",
       "      <td>1</td>\n",
       "      <td>1</td>\n",
       "      <td>0</td>\n",
       "      <td>0</td>\n",
       "      <td>0</td>\n",
       "      <td>0</td>\n",
       "      <td>0</td>\n",
       "    </tr>\n",
       "    <tr>\n",
       "      <th>158014</th>\n",
       "      <td>284866</td>\n",
       "      <td>1</td>\n",
       "      <td>0</td>\n",
       "      <td>86</td>\n",
       "      <td>64</td>\n",
       "      <td>83</td>\n",
       "      <td>96</td>\n",
       "      <td>78</td>\n",
       "      <td>86</td>\n",
       "      <td>0</td>\n",
       "      <td>...</td>\n",
       "      <td>0</td>\n",
       "      <td>1</td>\n",
       "      <td>0</td>\n",
       "      <td>0</td>\n",
       "      <td>0</td>\n",
       "      <td>0</td>\n",
       "      <td>0</td>\n",
       "      <td>1</td>\n",
       "      <td>0</td>\n",
       "      <td>0</td>\n",
       "    </tr>\n",
       "    <tr>\n",
       "      <th>455910</th>\n",
       "      <td>598183</td>\n",
       "      <td>1</td>\n",
       "      <td>0</td>\n",
       "      <td>98</td>\n",
       "      <td>24</td>\n",
       "      <td>62</td>\n",
       "      <td>26</td>\n",
       "      <td>57</td>\n",
       "      <td>36</td>\n",
       "      <td>2</td>\n",
       "      <td>...</td>\n",
       "      <td>0</td>\n",
       "      <td>0</td>\n",
       "      <td>0</td>\n",
       "      <td>0</td>\n",
       "      <td>0</td>\n",
       "      <td>1</td>\n",
       "      <td>0</td>\n",
       "      <td>0</td>\n",
       "      <td>0</td>\n",
       "      <td>0</td>\n",
       "    </tr>\n",
       "    <tr>\n",
       "      <th>293054</th>\n",
       "      <td>430398</td>\n",
       "      <td>1</td>\n",
       "      <td>0</td>\n",
       "      <td>87</td>\n",
       "      <td>86</td>\n",
       "      <td>77</td>\n",
       "      <td>26</td>\n",
       "      <td>81</td>\n",
       "      <td>52</td>\n",
       "      <td>0</td>\n",
       "      <td>...</td>\n",
       "      <td>0</td>\n",
       "      <td>0</td>\n",
       "      <td>0</td>\n",
       "      <td>0</td>\n",
       "      <td>1</td>\n",
       "      <td>0</td>\n",
       "      <td>0</td>\n",
       "      <td>0</td>\n",
       "      <td>0</td>\n",
       "      <td>0</td>\n",
       "    </tr>\n",
       "    <tr>\n",
       "      <th>440868</th>\n",
       "      <td>582709</td>\n",
       "      <td>1</td>\n",
       "      <td>0</td>\n",
       "      <td>37</td>\n",
       "      <td>55</td>\n",
       "      <td>45</td>\n",
       "      <td>26</td>\n",
       "      <td>46</td>\n",
       "      <td>36</td>\n",
       "      <td>1</td>\n",
       "      <td>...</td>\n",
       "      <td>0</td>\n",
       "      <td>0</td>\n",
       "      <td>1</td>\n",
       "      <td>0</td>\n",
       "      <td>0</td>\n",
       "      <td>0</td>\n",
       "      <td>0</td>\n",
       "      <td>0</td>\n",
       "      <td>1</td>\n",
       "      <td>0</td>\n",
       "    </tr>\n",
       "  </tbody>\n",
       "</table>\n",
       "<p>43231 rows × 32 columns</p>\n",
       "</div>"
      ],
      "text/plain": [
       "        Identifier  Product Selection  Product_Activation  R_rank_norm  \\\n",
       "219326      352564                  1                   0           83   \n",
       "247532      383425                  1                   0           94   \n",
       "285838      422964                  0                   0           42   \n",
       "337525      476198                  1                   0           97   \n",
       "91056       210821                  1                   0           25   \n",
       "...            ...                ...                 ...          ...   \n",
       "615129      762403                  1                   0           90   \n",
       "158014      284866                  1                   0           86   \n",
       "455910      598183                  1                   0           98   \n",
       "293054      430398                  1                   0           87   \n",
       "440868      582709                  1                   0           37   \n",
       "\n",
       "        F_rank_norm  M_rank_norm  M2_rank_norm  RFM_Score  RFM2_Score  \\\n",
       "219326           24           27            66         34          57   \n",
       "247532           24           55            26         52          36   \n",
       "285838           24            9            26         18          28   \n",
       "337525           24           50            26         50          36   \n",
       "91056            83           85            96         76          82   \n",
       "...             ...          ...           ...        ...         ...   \n",
       "615129           55           68            26         68          44   \n",
       "158014           64           83            96         78          86   \n",
       "455910           24           62            26         57          36   \n",
       "293054           86           77            26         81          52   \n",
       "440868           55           45            26         46          36   \n",
       "\n",
       "        Customer_segment  ...  ENT_OCCUPATION_Professional  \\\n",
       "219326                 1  ...                            0   \n",
       "247532                 2  ...                            0   \n",
       "285838                 1  ...                            0   \n",
       "337525                 2  ...                            0   \n",
       "91056                  0  ...                            0   \n",
       "...                  ...  ...                          ...   \n",
       "615129                 2  ...                            0   \n",
       "158014                 0  ...                            0   \n",
       "455910                 2  ...                            0   \n",
       "293054                 0  ...                            0   \n",
       "440868                 1  ...                            0   \n",
       "\n",
       "        ENT_OCCUPATION_Public  ENT_OCCUPATION_Retired  ENT_OCCUPATION_Student  \\\n",
       "219326                      0                       0                       0   \n",
       "247532                      0                       0                       0   \n",
       "285838                      0                       0                       0   \n",
       "337525                      0                       0                       0   \n",
       "91056                       0                       0                       0   \n",
       "...                       ...                     ...                     ...   \n",
       "615129                      0                       0                       1   \n",
       "158014                      1                       0                       0   \n",
       "455910                      0                       0                       0   \n",
       "293054                      0                       0                       0   \n",
       "440868                      0                       1                       0   \n",
       "\n",
       "        age_range_18-29  age_range_30-39  age_range_40-49  age_range_50-59  \\\n",
       "219326                1                0                0                0   \n",
       "247532                0                0                1                0   \n",
       "285838                0                0                0                1   \n",
       "337525                1                0                0                0   \n",
       "91056                 1                0                0                0   \n",
       "...                 ...              ...              ...              ...   \n",
       "615129                1                0                0                0   \n",
       "158014                0                0                0                1   \n",
       "455910                0                1                0                0   \n",
       "293054                1                0                0                0   \n",
       "440868                0                0                0                0   \n",
       "\n",
       "        age_range_60-69  age_range_70+  \n",
       "219326                0              0  \n",
       "247532                0              0  \n",
       "285838                0              0  \n",
       "337525                0              0  \n",
       "91056                 0              0  \n",
       "...                 ...            ...  \n",
       "615129                0              0  \n",
       "158014                0              0  \n",
       "455910                0              0  \n",
       "293054                0              0  \n",
       "440868                1              0  \n",
       "\n",
       "[43231 rows x 32 columns]"
      ]
     },
     "execution_count": 10,
     "metadata": {},
     "output_type": "execute_result"
    }
   ],
   "source": [
    "undersampled_df_zero"
   ]
  },
  {
   "cell_type": "code",
   "execution_count": 11,
   "id": "e34e8c19",
   "metadata": {},
   "outputs": [],
   "source": [
    "undersampled_df=pd.concat([df[df.Product_Activation==1],undersampled_df_zero], axis=0, ignore_index=True)"
   ]
  },
  {
   "cell_type": "code",
   "execution_count": 12,
   "id": "2870f1f5",
   "metadata": {},
   "outputs": [
    {
     "data": {
      "text/plain": [
       "1    43231\n",
       "0    43231\n",
       "Name: Product_Activation, dtype: int64"
      ]
     },
     "execution_count": 12,
     "metadata": {},
     "output_type": "execute_result"
    }
   ],
   "source": [
    "undersampled_df.Product_Activation.value_counts()"
   ]
  },
  {
   "cell_type": "code",
   "execution_count": 13,
   "id": "d57fe861",
   "metadata": {},
   "outputs": [],
   "source": [
    "X=undersampled_df.drop(columns=['Product Selection','Product_Activation'])\n",
    "Y=undersampled_df.Product_Activation"
   ]
  },
  {
   "cell_type": "code",
   "execution_count": 14,
   "id": "2d89c79b",
   "metadata": {},
   "outputs": [],
   "source": [
    "ada_model=AdaBoostClassifier()"
   ]
  },
  {
   "cell_type": "raw",
   "id": "724c34a6",
   "metadata": {},
   "source": [
    "#Define evaluation procedure (here we use Repeated Stratified K-Fold CV)\n",
    "cv_ori=RepeatedStratifiedKFold(n_splits=10, n_repeats=3, random_state=1)\n",
    "#Evaluate model\n",
    "scoring=['accuracy','precision_macro','recall_macro']\n",
    "scores_ori = cross_validate(ada_model, X, Y, scoring=scoring, cv=cv_ori, n_jobs=-1)"
   ]
  },
  {
   "cell_type": "code",
   "execution_count": 15,
   "id": "16c9a9e8",
   "metadata": {},
   "outputs": [],
   "source": [
    "xTrain,xTest,yTrain,yTest=train_test_split(X,Y,random_state=42)"
   ]
  },
  {
   "cell_type": "code",
   "execution_count": 16,
   "id": "d9af9d6f",
   "metadata": {},
   "outputs": [
    {
     "data": {
      "text/html": [
       "<style>#sk-container-id-1 {color: black;background-color: white;}#sk-container-id-1 pre{padding: 0;}#sk-container-id-1 div.sk-toggleable {background-color: white;}#sk-container-id-1 label.sk-toggleable__label {cursor: pointer;display: block;width: 100%;margin-bottom: 0;padding: 0.3em;box-sizing: border-box;text-align: center;}#sk-container-id-1 label.sk-toggleable__label-arrow:before {content: \"▸\";float: left;margin-right: 0.25em;color: #696969;}#sk-container-id-1 label.sk-toggleable__label-arrow:hover:before {color: black;}#sk-container-id-1 div.sk-estimator:hover label.sk-toggleable__label-arrow:before {color: black;}#sk-container-id-1 div.sk-toggleable__content {max-height: 0;max-width: 0;overflow: hidden;text-align: left;background-color: #f0f8ff;}#sk-container-id-1 div.sk-toggleable__content pre {margin: 0.2em;color: black;border-radius: 0.25em;background-color: #f0f8ff;}#sk-container-id-1 input.sk-toggleable__control:checked~div.sk-toggleable__content {max-height: 200px;max-width: 100%;overflow: auto;}#sk-container-id-1 input.sk-toggleable__control:checked~label.sk-toggleable__label-arrow:before {content: \"▾\";}#sk-container-id-1 div.sk-estimator input.sk-toggleable__control:checked~label.sk-toggleable__label {background-color: #d4ebff;}#sk-container-id-1 div.sk-label input.sk-toggleable__control:checked~label.sk-toggleable__label {background-color: #d4ebff;}#sk-container-id-1 input.sk-hidden--visually {border: 0;clip: rect(1px 1px 1px 1px);clip: rect(1px, 1px, 1px, 1px);height: 1px;margin: -1px;overflow: hidden;padding: 0;position: absolute;width: 1px;}#sk-container-id-1 div.sk-estimator {font-family: monospace;background-color: #f0f8ff;border: 1px dotted black;border-radius: 0.25em;box-sizing: border-box;margin-bottom: 0.5em;}#sk-container-id-1 div.sk-estimator:hover {background-color: #d4ebff;}#sk-container-id-1 div.sk-parallel-item::after {content: \"\";width: 100%;border-bottom: 1px solid gray;flex-grow: 1;}#sk-container-id-1 div.sk-label:hover label.sk-toggleable__label {background-color: #d4ebff;}#sk-container-id-1 div.sk-serial::before {content: \"\";position: absolute;border-left: 1px solid gray;box-sizing: border-box;top: 0;bottom: 0;left: 50%;z-index: 0;}#sk-container-id-1 div.sk-serial {display: flex;flex-direction: column;align-items: center;background-color: white;padding-right: 0.2em;padding-left: 0.2em;position: relative;}#sk-container-id-1 div.sk-item {position: relative;z-index: 1;}#sk-container-id-1 div.sk-parallel {display: flex;align-items: stretch;justify-content: center;background-color: white;position: relative;}#sk-container-id-1 div.sk-item::before, #sk-container-id-1 div.sk-parallel-item::before {content: \"\";position: absolute;border-left: 1px solid gray;box-sizing: border-box;top: 0;bottom: 0;left: 50%;z-index: -1;}#sk-container-id-1 div.sk-parallel-item {display: flex;flex-direction: column;z-index: 1;position: relative;background-color: white;}#sk-container-id-1 div.sk-parallel-item:first-child::after {align-self: flex-end;width: 50%;}#sk-container-id-1 div.sk-parallel-item:last-child::after {align-self: flex-start;width: 50%;}#sk-container-id-1 div.sk-parallel-item:only-child::after {width: 0;}#sk-container-id-1 div.sk-dashed-wrapped {border: 1px dashed gray;margin: 0 0.4em 0.5em 0.4em;box-sizing: border-box;padding-bottom: 0.4em;background-color: white;}#sk-container-id-1 div.sk-label label {font-family: monospace;font-weight: bold;display: inline-block;line-height: 1.2em;}#sk-container-id-1 div.sk-label-container {text-align: center;}#sk-container-id-1 div.sk-container {/* jupyter's `normalize.less` sets `[hidden] { display: none; }` but bootstrap.min.css set `[hidden] { display: none !important; }` so we also need the `!important` here to be able to override the default hidden behavior on the sphinx rendered scikit-learn.org. See: https://github.com/scikit-learn/scikit-learn/issues/21755 */display: inline-block !important;position: relative;}#sk-container-id-1 div.sk-text-repr-fallback {display: none;}</style><div id=\"sk-container-id-1\" class=\"sk-top-container\"><div class=\"sk-text-repr-fallback\"><pre>AdaBoostClassifier()</pre><b>In a Jupyter environment, please rerun this cell to show the HTML representation or trust the notebook. <br />On GitHub, the HTML representation is unable to render, please try loading this page with nbviewer.org.</b></div><div class=\"sk-container\" hidden><div class=\"sk-item\"><div class=\"sk-estimator sk-toggleable\"><input class=\"sk-toggleable__control sk-hidden--visually\" id=\"sk-estimator-id-1\" type=\"checkbox\" checked><label for=\"sk-estimator-id-1\" class=\"sk-toggleable__label sk-toggleable__label-arrow\">AdaBoostClassifier</label><div class=\"sk-toggleable__content\"><pre>AdaBoostClassifier()</pre></div></div></div></div></div>"
      ],
      "text/plain": [
       "AdaBoostClassifier()"
      ]
     },
     "execution_count": 16,
     "metadata": {},
     "output_type": "execute_result"
    }
   ],
   "source": [
    "ada_model.fit(xTrain,yTrain)"
   ]
  },
  {
   "cell_type": "code",
   "execution_count": 17,
   "id": "9d23f9a6",
   "metadata": {},
   "outputs": [
    {
     "data": {
      "text/plain": [
       "array([0, 0, 1, ..., 1, 1, 1])"
      ]
     },
     "execution_count": 17,
     "metadata": {},
     "output_type": "execute_result"
    }
   ],
   "source": [
    "ada_model.predict(xTest)"
   ]
  },
  {
   "cell_type": "code",
   "execution_count": 18,
   "id": "e1e4663b",
   "metadata": {},
   "outputs": [
    {
     "data": {
      "text/plain": [
       "array([[8981,  996],\n",
       "       [1773, 9866]])"
      ]
     },
     "execution_count": 18,
     "metadata": {},
     "output_type": "execute_result"
    }
   ],
   "source": [
    "confusion_matrix(ada_model.predict(xTest),yTest)"
   ]
  },
  {
   "cell_type": "code",
   "execution_count": 19,
   "id": "52a23676",
   "metadata": {},
   "outputs": [
    {
     "name": "stderr",
     "output_type": "stream",
     "text": [
      "/home/vikrant/anaconda3/lib/python3.9/site-packages/sklearn/utils/deprecation.py:87: FutureWarning: Function plot_confusion_matrix is deprecated; Function `plot_confusion_matrix` is deprecated in 1.0 and will be removed in 1.2. Use one of the class methods: ConfusionMatrixDisplay.from_predictions or ConfusionMatrixDisplay.from_estimator.\n",
      "  warnings.warn(msg, category=FutureWarning)\n"
     ]
    },
    {
     "data": {
      "image/png": "[encoded data removed]",
      "text/plain": [
       "<Figure size 432x288 with 2 Axes>"
      ]
     },
     "metadata": {},
     "output_type": "display_data"
    }
   ],
   "source": [
    "_=metrics.plot_confusion_matrix(ada_model,xTest,yTest,cmap='Blues_r')"
   ]
  },
  {
   "cell_type": "code",
   "execution_count": 20,
   "id": "d97d7370",
   "metadata": {},
   "outputs": [
    {
     "data": {
      "text/plain": [
       "0.8719004441154701"
      ]
     },
     "execution_count": 20,
     "metadata": {},
     "output_type": "execute_result"
    }
   ],
   "source": [
    "ada_model.score(xTest,yTest)"
   ]
  },
  {
   "cell_type": "code",
   "execution_count": 21,
   "id": "2f30ff74",
   "metadata": {},
   "outputs": [
    {
     "data": {
      "text/plain": [
       "0.8769388027198791"
      ]
     },
     "execution_count": 21,
     "metadata": {},
     "output_type": "execute_result"
    }
   ],
   "source": [
    "metrics.f1_score(yTest,ada_model.predict(xTest))"
   ]
  },
  {
   "cell_type": "code",
   "execution_count": 22,
   "id": "bf5587a5",
   "metadata": {},
   "outputs": [],
   "source": [
    "cv_ori=RepeatedStratifiedKFold(n_splits=5, n_repeats=3, random_state=1)\n",
    "scoring=['accuracy','precision_macro','recall_macro']\n",
    "scores_ori = cross_validate(ada_model, X, Y, scoring=scoring, cv=cv_ori, n_jobs=-1)"
   ]
  },
  {
   "cell_type": "code",
   "execution_count": 23,
   "id": "22914062",
   "metadata": {},
   "outputs": [
    {
     "name": "stdout",
     "output_type": "stream",
     "text": [
      "Mean Accuracy: 0.8723\n",
      "Mean Precision: 0.8741\n",
      "Mean Recall: 0.8723\n"
     ]
    }
   ],
   "source": [
    "print('Mean Accuracy: %.4f' % np.mean(scores_ori['test_accuracy']))\n",
    "print('Mean Precision: %.4f' % np.mean(scores_ori['test_precision_macro']))\n",
    "print('Mean Recall: %.4f' % np.mean(scores_ori['test_recall_macro']))"
   ]
  },
  {
   "cell_type": "code",
   "execution_count": 24,
   "id": "d4a17dfa",
   "metadata": {},
   "outputs": [
    {
     "name": "stderr",
     "output_type": "stream",
     "text": [
      "/home/vikrant/anaconda3/lib/python3.9/site-packages/lightgbm/sklearn.py:736: UserWarning: 'verbose' argument is deprecated and will be removed in a future release of LightGBM. Pass 'log_evaluation()' callback via 'callbacks' argument instead.\n",
      "  _log_warning(\"'verbose' argument is deprecated and will be removed in a future release of LightGBM. \"\n"
     ]
    },
    {
     "name": "stdout",
     "output_type": "stream",
     "text": [
      "[20]\ttraining's binary_logloss: 0.31341\tvalid_0's binary_logloss: 0.318527\n",
      "[40]\ttraining's binary_logloss: 0.27445\tvalid_0's binary_logloss: 0.282668\n",
      "[60]\ttraining's binary_logloss: 0.265496\tvalid_0's binary_logloss: 0.27722\n",
      "[80]\ttraining's binary_logloss: 0.261028\tvalid_0's binary_logloss: 0.276232\n",
      "[100]\ttraining's binary_logloss: 0.257404\tvalid_0's binary_logloss: 0.275828\n"
     ]
    },
    {
     "data": {
      "text/html": [
       "<style>#sk-container-id-2 {color: black;background-color: white;}#sk-container-id-2 pre{padding: 0;}#sk-container-id-2 div.sk-toggleable {background-color: white;}#sk-container-id-2 label.sk-toggleable__label {cursor: pointer;display: block;width: 100%;margin-bottom: 0;padding: 0.3em;box-sizing: border-box;text-align: center;}#sk-container-id-2 label.sk-toggleable__label-arrow:before {content: \"▸\";float: left;margin-right: 0.25em;color: #696969;}#sk-container-id-2 label.sk-toggleable__label-arrow:hover:before {color: black;}#sk-container-id-2 div.sk-estimator:hover label.sk-toggleable__label-arrow:before {color: black;}#sk-container-id-2 div.sk-toggleable__content {max-height: 0;max-width: 0;overflow: hidden;text-align: left;background-color: #f0f8ff;}#sk-container-id-2 div.sk-toggleable__content pre {margin: 0.2em;color: black;border-radius: 0.25em;background-color: #f0f8ff;}#sk-container-id-2 input.sk-toggleable__control:checked~div.sk-toggleable__content {max-height: 200px;max-width: 100%;overflow: auto;}#sk-container-id-2 input.sk-toggleable__control:checked~label.sk-toggleable__label-arrow:before {content: \"▾\";}#sk-container-id-2 div.sk-estimator input.sk-toggleable__control:checked~label.sk-toggleable__label {background-color: #d4ebff;}#sk-container-id-2 div.sk-label input.sk-toggleable__control:checked~label.sk-toggleable__label {background-color: #d4ebff;}#sk-container-id-2 input.sk-hidden--visually {border: 0;clip: rect(1px 1px 1px 1px);clip: rect(1px, 1px, 1px, 1px);height: 1px;margin: -1px;overflow: hidden;padding: 0;position: absolute;width: 1px;}#sk-container-id-2 div.sk-estimator {font-family: monospace;background-color: #f0f8ff;border: 1px dotted black;border-radius: 0.25em;box-sizing: border-box;margin-bottom: 0.5em;}#sk-container-id-2 div.sk-estimator:hover {background-color: #d4ebff;}#sk-container-id-2 div.sk-parallel-item::after {content: \"\";width: 100%;border-bottom: 1px solid gray;flex-grow: 1;}#sk-container-id-2 div.sk-label:hover label.sk-toggleable__label {background-color: #d4ebff;}#sk-container-id-2 div.sk-serial::before {content: \"\";position: absolute;border-left: 1px solid gray;box-sizing: border-box;top: 0;bottom: 0;left: 50%;z-index: 0;}#sk-container-id-2 div.sk-serial {display: flex;flex-direction: column;align-items: center;background-color: white;padding-right: 0.2em;padding-left: 0.2em;position: relative;}#sk-container-id-2 div.sk-item {position: relative;z-index: 1;}#sk-container-id-2 div.sk-parallel {display: flex;align-items: stretch;justify-content: center;background-color: white;position: relative;}#sk-container-id-2 div.sk-item::before, #sk-container-id-2 div.sk-parallel-item::before {content: \"\";position: absolute;border-left: 1px solid gray;box-sizing: border-box;top: 0;bottom: 0;left: 50%;z-index: -1;}#sk-container-id-2 div.sk-parallel-item {display: flex;flex-direction: column;z-index: 1;position: relative;background-color: white;}#sk-container-id-2 div.sk-parallel-item:first-child::after {align-self: flex-end;width: 50%;}#sk-container-id-2 div.sk-parallel-item:last-child::after {align-self: flex-start;width: 50%;}#sk-container-id-2 div.sk-parallel-item:only-child::after {width: 0;}#sk-container-id-2 div.sk-dashed-wrapped {border: 1px dashed gray;margin: 0 0.4em 0.5em 0.4em;box-sizing: border-box;padding-bottom: 0.4em;background-color: white;}#sk-container-id-2 div.sk-label label {font-family: monospace;font-weight: bold;display: inline-block;line-height: 1.2em;}#sk-container-id-2 div.sk-label-container {text-align: center;}#sk-container-id-2 div.sk-container {/* jupyter's `normalize.less` sets `[hidden] { display: none; }` but bootstrap.min.css set `[hidden] { display: none !important; }` so we also need the `!important` here to be able to override the default hidden behavior on the sphinx rendered scikit-learn.org. See: https://github.com/scikit-learn/scikit-learn/issues/21755 */display: inline-block !important;position: relative;}#sk-container-id-2 div.sk-text-repr-fallback {display: none;}</style><div id=\"sk-container-id-2\" class=\"sk-top-container\"><div class=\"sk-text-repr-fallback\"><pre>LGBMClassifier(learning_rate=0.09, max_depth=-5, random_state=42)</pre><b>In a Jupyter environment, please rerun this cell to show the HTML representation or trust the notebook. <br />On GitHub, the HTML representation is unable to render, please try loading this page with nbviewer.org.</b></div><div class=\"sk-container\" hidden><div class=\"sk-item\"><div class=\"sk-estimator sk-toggleable\"><input class=\"sk-toggleable__control sk-hidden--visually\" id=\"sk-estimator-id-2\" type=\"checkbox\" checked><label for=\"sk-estimator-id-2\" class=\"sk-toggleable__label sk-toggleable__label-arrow\">LGBMClassifier</label><div class=\"sk-toggleable__content\"><pre>LGBMClassifier(learning_rate=0.09, max_depth=-5, random_state=42)</pre></div></div></div></div></div>"
      ],
      "text/plain": [
       "LGBMClassifier(learning_rate=0.09, max_depth=-5, random_state=42)"
      ]
     },
     "execution_count": 24,
     "metadata": {},
     "output_type": "execute_result"
    }
   ],
   "source": [
    "lgbm_model = lgb.LGBMClassifier(learning_rate=0.09,max_depth=-5,random_state=42)\n",
    "lgbm_model.fit(xTrain,yTrain,eval_set=[(xTest,yTest),(xTrain,yTrain)],\n",
    "          verbose=20,eval_metric='logloss')"
   ]
  },
  {
   "cell_type": "code",
   "execution_count": 25,
   "id": "d17974dd",
   "metadata": {},
   "outputs": [
    {
     "data": {
      "text/plain": [
       "0.8762953367875648"
      ]
     },
     "execution_count": 25,
     "metadata": {},
     "output_type": "execute_result"
    }
   ],
   "source": [
    "lgbm_model.score(xTest,yTest)"
   ]
  },
  {
   "cell_type": "code",
   "execution_count": 26,
   "id": "6760c636",
   "metadata": {},
   "outputs": [
    {
     "data": {
      "text/plain": [
       "0.8810392383664026"
      ]
     },
     "execution_count": 26,
     "metadata": {},
     "output_type": "execute_result"
    }
   ],
   "source": [
    "metrics.f1_score(yTest,lgbm_model.predict(xTest))"
   ]
  },
  {
   "cell_type": "code",
   "execution_count": 27,
   "id": "f529c036",
   "metadata": {},
   "outputs": [],
   "source": [
    "randomF_model=RandomForestClassifier(n_estimators=50,max_depth=10)"
   ]
  },
  {
   "cell_type": "code",
   "execution_count": 28,
   "id": "6984aae2",
   "metadata": {},
   "outputs": [
    {
     "data": {
      "text/html": [
       "<style>#sk-container-id-3 {color: black;background-color: white;}#sk-container-id-3 pre{padding: 0;}#sk-container-id-3 div.sk-toggleable {background-color: white;}#sk-container-id-3 label.sk-toggleable__label {cursor: pointer;display: block;width: 100%;margin-bottom: 0;padding: 0.3em;box-sizing: border-box;text-align: center;}#sk-container-id-3 label.sk-toggleable__label-arrow:before {content: \"▸\";float: left;margin-right: 0.25em;color: #696969;}#sk-container-id-3 label.sk-toggleable__label-arrow:hover:before {color: black;}#sk-container-id-3 div.sk-estimator:hover label.sk-toggleable__label-arrow:before {color: black;}#sk-container-id-3 div.sk-toggleable__content {max-height: 0;max-width: 0;overflow: hidden;text-align: left;background-color: #f0f8ff;}#sk-container-id-3 div.sk-toggleable__content pre {margin: 0.2em;color: black;border-radius: 0.25em;background-color: #f0f8ff;}#sk-container-id-3 input.sk-toggleable__control:checked~div.sk-toggleable__content {max-height: 200px;max-width: 100%;overflow: auto;}#sk-container-id-3 input.sk-toggleable__control:checked~label.sk-toggleable__label-arrow:before {content: \"▾\";}#sk-container-id-3 div.sk-estimator input.sk-toggleable__control:checked~label.sk-toggleable__label {background-color: #d4ebff;}#sk-container-id-3 div.sk-label input.sk-toggleable__control:checked~label.sk-toggleable__label {background-color: #d4ebff;}#sk-container-id-3 input.sk-hidden--visually {border: 0;clip: rect(1px 1px 1px 1px);clip: rect(1px, 1px, 1px, 1px);height: 1px;margin: -1px;overflow: hidden;padding: 0;position: absolute;width: 1px;}#sk-container-id-3 div.sk-estimator {font-family: monospace;background-color: #f0f8ff;border: 1px dotted black;border-radius: 0.25em;box-sizing: border-box;margin-bottom: 0.5em;}#sk-container-id-3 div.sk-estimator:hover {background-color: #d4ebff;}#sk-container-id-3 div.sk-parallel-item::after {content: \"\";width: 100%;border-bottom: 1px solid gray;flex-grow: 1;}#sk-container-id-3 div.sk-label:hover label.sk-toggleable__label {background-color: #d4ebff;}#sk-container-id-3 div.sk-serial::before {content: \"\";position: absolute;border-left: 1px solid gray;box-sizing: border-box;top: 0;bottom: 0;left: 50%;z-index: 0;}#sk-container-id-3 div.sk-serial {display: flex;flex-direction: column;align-items: center;background-color: white;padding-right: 0.2em;padding-left: 0.2em;position: relative;}#sk-container-id-3 div.sk-item {position: relative;z-index: 1;}#sk-container-id-3 div.sk-parallel {display: flex;align-items: stretch;justify-content: center;background-color: white;position: relative;}#sk-container-id-3 div.sk-item::before, #sk-container-id-3 div.sk-parallel-item::before {content: \"\";position: absolute;border-left: 1px solid gray;box-sizing: border-box;top: 0;bottom: 0;left: 50%;z-index: -1;}#sk-container-id-3 div.sk-parallel-item {display: flex;flex-direction: column;z-index: 1;position: relative;background-color: white;}#sk-container-id-3 div.sk-parallel-item:first-child::after {align-self: flex-end;width: 50%;}#sk-container-id-3 div.sk-parallel-item:last-child::after {align-self: flex-start;width: 50%;}#sk-container-id-3 div.sk-parallel-item:only-child::after {width: 0;}#sk-container-id-3 div.sk-dashed-wrapped {border: 1px dashed gray;margin: 0 0.4em 0.5em 0.4em;box-sizing: border-box;padding-bottom: 0.4em;background-color: white;}#sk-container-id-3 div.sk-label label {font-family: monospace;font-weight: bold;display: inline-block;line-height: 1.2em;}#sk-container-id-3 div.sk-label-container {text-align: center;}#sk-container-id-3 div.sk-container {/* jupyter's `normalize.less` sets `[hidden] { display: none; }` but bootstrap.min.css set `[hidden] { display: none !important; }` so we also need the `!important` here to be able to override the default hidden behavior on the sphinx rendered scikit-learn.org. See: https://github.com/scikit-learn/scikit-learn/issues/21755 */display: inline-block !important;position: relative;}#sk-container-id-3 div.sk-text-repr-fallback {display: none;}</style><div id=\"sk-container-id-3\" class=\"sk-top-container\"><div class=\"sk-text-repr-fallback\"><pre>RandomForestClassifier(max_depth=10, n_estimators=50)</pre><b>In a Jupyter environment, please rerun this cell to show the HTML representation or trust the notebook. <br />On GitHub, the HTML representation is unable to render, please try loading this page with nbviewer.org.</b></div><div class=\"sk-container\" hidden><div class=\"sk-item\"><div class=\"sk-estimator sk-toggleable\"><input class=\"sk-toggleable__control sk-hidden--visually\" id=\"sk-estimator-id-3\" type=\"checkbox\" checked><label for=\"sk-estimator-id-3\" class=\"sk-toggleable__label sk-toggleable__label-arrow\">RandomForestClassifier</label><div class=\"sk-toggleable__content\"><pre>RandomForestClassifier(max_depth=10, n_estimators=50)</pre></div></div></div></div></div>"
      ],
      "text/plain": [
       "RandomForestClassifier(max_depth=10, n_estimators=50)"
      ]
     },
     "execution_count": 28,
     "metadata": {},
     "output_type": "execute_result"
    }
   ],
   "source": [
    "randomF_model.fit(xTrain,yTrain)"
   ]
  },
  {
   "cell_type": "code",
   "execution_count": 29,
   "id": "5a60cd7b",
   "metadata": {},
   "outputs": [
    {
     "data": {
      "text/plain": [
       "0.8737971872686898"
      ]
     },
     "execution_count": 29,
     "metadata": {},
     "output_type": "execute_result"
    }
   ],
   "source": [
    "randomF_model.score(xTest,yTest)"
   ]
  },
  {
   "cell_type": "code",
   "execution_count": 30,
   "id": "30c5352c",
   "metadata": {},
   "outputs": [
    {
     "data": {
      "text/plain": [
       "0.8787663318816106"
      ]
     },
     "execution_count": 30,
     "metadata": {},
     "output_type": "execute_result"
    }
   ],
   "source": [
    "metrics.f1_score(yTest,randomF_model.predict(xTest))"
   ]
  },
  {
   "cell_type": "code",
   "execution_count": 31,
   "id": "ce86dd48",
   "metadata": {},
   "outputs": [
    {
     "name": "stderr",
     "output_type": "stream",
     "text": [
      "/home/vikrant/anaconda3/lib/python3.9/site-packages/sklearn/utils/deprecation.py:87: FutureWarning: Function plot_confusion_matrix is deprecated; Function `plot_confusion_matrix` is deprecated in 1.0 and will be removed in 1.2. Use one of the class methods: ConfusionMatrixDisplay.from_predictions or ConfusionMatrixDisplay.from_estimator.\n",
      "  warnings.warn(msg, category=FutureWarning)\n"
     ]
    },
    {
     "data": {
      "image/png": "[encoded data removed]",
      "text/plain": [
       "<Figure size 432x288 with 2 Axes>"
      ]
     },
     "metadata": {},
     "output_type": "display_data"
    }
   ],
   "source": [
    "_=metrics.plot_confusion_matrix(randomF_model,xTest,yTest,cmap='Blues_r')"
   ]
  },
  {
   "cell_type": "code",
   "execution_count": 32,
   "id": "4c9edcd5",
   "metadata": {},
   "outputs": [
    {
     "name": "stderr",
     "output_type": "stream",
     "text": [
      "/home/vikrant/anaconda3/lib/python3.9/site-packages/sklearn/utils/deprecation.py:87: FutureWarning: Function plot_confusion_matrix is deprecated; Function `plot_confusion_matrix` is deprecated in 1.0 and will be removed in 1.2. Use one of the class methods: ConfusionMatrixDisplay.from_predictions or ConfusionMatrixDisplay.from_estimator.\n",
      "  warnings.warn(msg, category=FutureWarning)\n"
     ]
    },
    {
     "data": {
      "image/png": "[encoded data removed]",
      "text/plain": [
       "<Figure size 432x288 with 2 Axes>"
      ]
     },
     "metadata": {},
     "output_type": "display_data"
    }
   ],
   "source": [
    "_=metrics.plot_confusion_matrix(ada_model,xTest,yTest,cmap='Blues_r')"
   ]
  },
  {
   "cell_type": "code",
   "execution_count": 33,
   "id": "a5f0a137",
   "metadata": {},
   "outputs": [
    {
     "name": "stderr",
     "output_type": "stream",
     "text": [
      "/home/vikrant/anaconda3/lib/python3.9/site-packages/sklearn/utils/deprecation.py:87: FutureWarning: Function plot_confusion_matrix is deprecated; Function `plot_confusion_matrix` is deprecated in 1.0 and will be removed in 1.2. Use one of the class methods: ConfusionMatrixDisplay.from_predictions or ConfusionMatrixDisplay.from_estimator.\n",
      "  warnings.warn(msg, category=FutureWarning)\n"
     ]
    },
    {
     "data": {
      "image/png": "[encoded data removed]",
      "text/plain": [
       "<Figure size 432x288 with 2 Axes>"
      ]
     },
     "metadata": {},
     "output_type": "display_data"
    }
   ],
   "source": [
    "_=metrics.plot_confusion_matrix(lgbm_model,xTest,yTest,cmap='Blues_r')"
   ]
  },
  {
   "cell_type": "code",
   "execution_count": 34,
   "id": "a2cd21f3",
   "metadata": {},
   "outputs": [
    {
     "name": "stdout",
     "output_type": "stream",
     "text": [
      "f1 score of LGBM: 0.8810392383664026\n",
      "f1 score of Adaboost: 0.8769388027198791\n",
      "f1 score of RandomForest: 0.8787663318816106\n"
     ]
    }
   ],
   "source": [
    "print('f1 score of LGBM:',metrics.f1_score(yTest,lgbm_model.predict(xTest)))\n",
    "print('f1 score of Adaboost:',metrics.f1_score(yTest,ada_model.predict(xTest)))\n",
    "print('f1 score of RandomForest:',metrics.f1_score(yTest,randomF_model.predict(xTest)))"
   ]
  },
  {
   "cell_type": "code",
   "execution_count": 35,
   "id": "9008edce",
   "metadata": {},
   "outputs": [
    {
     "data": {
      "text/plain": [
       "0.8362623901058518"
      ]
     },
     "execution_count": 35,
     "metadata": {},
     "output_type": "execute_result"
    }
   ],
   "source": [
    "lgbm_model.predict_proba(xTest)[-1][1]"
   ]
  },
  {
   "cell_type": "code",
   "execution_count": 36,
   "id": "2a5989d3",
   "metadata": {},
   "outputs": [
    {
     "data": {
      "text/plain": [
       "array([0, 0, 1, ..., 1, 1, 1])"
      ]
     },
     "execution_count": 36,
     "metadata": {},
     "output_type": "execute_result"
    }
   ],
   "source": [
    "lgbm_model.predict(xTest)"
   ]
  },
  {
   "cell_type": "raw",
   "id": "b976b6bb",
   "metadata": {},
   "source": [
    "for i in range(len(lgbm_model.predict_proba(xTest))):\n",
    "    Propensity,Product_Activation=round(lgbm_model.predict_proba(xTest)[i][1],4),lgbm_model.predict(xTest)[i]"
   ]
  },
  {
   "cell_type": "code",
   "execution_count": 37,
   "id": "f5bfe38a",
   "metadata": {},
   "outputs": [
    {
     "ename": "TypeError",
     "evalue": "type numpy.ndarray doesn't define __round__ method",
     "output_type": "error",
     "traceback": [
      "\u001b[0;31m---------------------------------------------------------------------------\u001b[0m",
      "\u001b[0;31mTypeError\u001b[0m                                 Traceback (most recent call last)",
      "\u001b[0;32m/tmp/ipykernel_55968/1285880958.py\u001b[0m in \u001b[0;36m<module>\u001b[0;34m\u001b[0m\n\u001b[0;32m----> 1\u001b[0;31m \u001b[0mFinal_result\u001b[0m\u001b[0;34m=\u001b[0m\u001b[0mpd\u001b[0m\u001b[0;34m.\u001b[0m\u001b[0mDataFrame\u001b[0m\u001b[0;34m(\u001b[0m\u001b[0mdata\u001b[0m\u001b[0;34m=\u001b[0m\u001b[0;34m[\u001b[0m\u001b[0mround\u001b[0m\u001b[0;34m(\u001b[0m\u001b[0mlgbm_model\u001b[0m\u001b[0;34m.\u001b[0m\u001b[0mpredict_proba\u001b[0m\u001b[0;34m(\u001b[0m\u001b[0mxTest\u001b[0m\u001b[0;34m)\u001b[0m\u001b[0;34m[\u001b[0m\u001b[0;34m:\u001b[0m\u001b[0;34m]\u001b[0m\u001b[0;34m[\u001b[0m\u001b[0;36m1\u001b[0m\u001b[0;34m]\u001b[0m\u001b[0;34m,\u001b[0m\u001b[0;36m4\u001b[0m\u001b[0;34m)\u001b[0m\u001b[0;34m,\u001b[0m\u001b[0mProduct_Activation\u001b[0m\u001b[0;34m]\u001b[0m\u001b[0;34m,\u001b[0m\u001b[0mcolumns\u001b[0m\u001b[0;34m=\u001b[0m\u001b[0;34m[\u001b[0m\u001b[0;34m'Propensity'\u001b[0m\u001b[0;34m,\u001b[0m\u001b[0;34m'Product_Activation'\u001b[0m\u001b[0;34m]\u001b[0m\u001b[0;34m)\u001b[0m\u001b[0;34m\u001b[0m\u001b[0;34m\u001b[0m\u001b[0m\n\u001b[0m",
      "\u001b[0;31mTypeError\u001b[0m: type numpy.ndarray doesn't define __round__ method"
     ]
    }
   ],
   "source": [
    "Final_result=pd.DataFrame(data=[round(lgbm_model.predict_proba(xTest)[:][1],4),Product_Activation],columns=['Propensity','Product_Activation'])"
   ]
  },
  {
   "cell_type": "code",
   "execution_count": null,
   "id": "6e3ef6dd",
   "metadata": {},
   "outputs": [],
   "source": [
    "lgbm_model.predict_proba(xTest)"
   ]
  },
  {
   "cell_type": "code",
   "execution_count": 57,
   "id": "3c0b5c3b",
   "metadata": {},
   "outputs": [
    {
     "data": {
      "text/html": [
       "<div>\n",
       "<style scoped>\n",
       "    .dataframe tbody tr th:only-of-type {\n",
       "        vertical-align: middle;\n",
       "    }\n",
       "\n",
       "    .dataframe tbody tr th {\n",
       "        vertical-align: top;\n",
       "    }\n",
       "\n",
       "    .dataframe thead th {\n",
       "        text-align: right;\n",
       "    }\n",
       "</style>\n",
       "<table border=\"1\" class=\"dataframe\">\n",
       "  <thead>\n",
       "    <tr style=\"text-align: right;\">\n",
       "      <th></th>\n",
       "      <th>Propensity</th>\n",
       "      <th>Product_Activation</th>\n",
       "    </tr>\n",
       "  </thead>\n",
       "  <tbody>\n",
       "    <tr>\n",
       "      <th>0</th>\n",
       "      <td>0        0.117899\n",
       "1        0.005664\n",
       "2        0...</td>\n",
       "      <td>[0, 0, 1, 1, 0, 0, 1, 0, 1, 0, 0, 1, 0, 0, 0, ...</td>\n",
       "    </tr>\n",
       "  </tbody>\n",
       "</table>\n",
       "</div>"
      ],
      "text/plain": [
       "                                          Propensity  \\\n",
       "0  0        0.117899\n",
       "1        0.005664\n",
       "2        0...   \n",
       "\n",
       "                                  Product_Activation  \n",
       "0  [0, 0, 1, 1, 0, 0, 1, 0, 1, 0, 0, 1, 0, 0, 0, ...  "
      ]
     },
     "execution_count": 57,
     "metadata": {},
     "output_type": "execute_result"
    }
   ],
   "source": [
    "pd.DataFrame({'Propensity':[pd.DataFrame(lgbm_model.predict_proba(xTest))[1]],'Product_Activation':[lgbm_model.predict(xTest)]})"
   ]
  },
  {
   "cell_type": "code",
   "execution_count": 69,
   "id": "c3d53eae",
   "metadata": {},
   "outputs": [],
   "source": [
    "v=pd.DataFrame(lgbm_model.predict_proba(xTest))[1]"
   ]
  },
  {
   "cell_type": "code",
   "execution_count": 77,
   "id": "80d18068",
   "metadata": {},
   "outputs": [
    {
     "data": {
      "text/html": [
       "<div>\n",
       "<style scoped>\n",
       "    .dataframe tbody tr th:only-of-type {\n",
       "        vertical-align: middle;\n",
       "    }\n",
       "\n",
       "    .dataframe tbody tr th {\n",
       "        vertical-align: top;\n",
       "    }\n",
       "\n",
       "    .dataframe thead th {\n",
       "        text-align: right;\n",
       "    }\n",
       "</style>\n",
       "<table border=\"1\" class=\"dataframe\">\n",
       "  <thead>\n",
       "    <tr style=\"text-align: right;\">\n",
       "      <th></th>\n",
       "      <th>0</th>\n",
       "    </tr>\n",
       "    <tr>\n",
       "      <th>1</th>\n",
       "      <th></th>\n",
       "    </tr>\n",
       "  </thead>\n",
       "  <tbody>\n",
       "    <tr>\n",
       "      <th>0.117899</th>\n",
       "      <td>0</td>\n",
       "    </tr>\n",
       "    <tr>\n",
       "      <th>0.005664</th>\n",
       "      <td>0</td>\n",
       "    </tr>\n",
       "    <tr>\n",
       "      <th>0.785983</th>\n",
       "      <td>1</td>\n",
       "    </tr>\n",
       "    <tr>\n",
       "      <th>0.815479</th>\n",
       "      <td>1</td>\n",
       "    </tr>\n",
       "    <tr>\n",
       "      <th>0.004194</th>\n",
       "      <td>0</td>\n",
       "    </tr>\n",
       "    <tr>\n",
       "      <th>...</th>\n",
       "      <td>...</td>\n",
       "    </tr>\n",
       "    <tr>\n",
       "      <th>0.770652</th>\n",
       "      <td>1</td>\n",
       "    </tr>\n",
       "    <tr>\n",
       "      <th>0.803533</th>\n",
       "      <td>1</td>\n",
       "    </tr>\n",
       "    <tr>\n",
       "      <th>0.612369</th>\n",
       "      <td>1</td>\n",
       "    </tr>\n",
       "    <tr>\n",
       "      <th>0.965734</th>\n",
       "      <td>1</td>\n",
       "    </tr>\n",
       "    <tr>\n",
       "      <th>0.836262</th>\n",
       "      <td>1</td>\n",
       "    </tr>\n",
       "  </tbody>\n",
       "</table>\n",
       "<p>21616 rows × 1 columns</p>\n",
       "</div>"
      ],
      "text/plain": [
       "          0\n",
       "1          \n",
       "0.117899  0\n",
       "0.005664  0\n",
       "0.785983  1\n",
       "0.815479  1\n",
       "0.004194  0\n",
       "...      ..\n",
       "0.770652  1\n",
       "0.803533  1\n",
       "0.612369  1\n",
       "0.965734  1\n",
       "0.836262  1\n",
       "\n",
       "[21616 rows x 1 columns]"
      ]
     },
     "execution_count": 77,
     "metadata": {},
     "output_type": "execute_result"
    }
   ],
   "source": [
    "pd.DataFrame(lgbm_model.predict(xTest),v)"
   ]
  },
  {
   "cell_type": "code",
   "execution_count": null,
   "id": "3227c31b",
   "metadata": {},
   "outputs": [],
   "source": []
  }
 ],
 "metadata": {
  "kernelspec": {
   "display_name": "Python 3 (ipykernel)",
   "language": "python",
   "name": "python3"
  },
  "language_info": {
   "codemirror_mode": {
    "name": "ipython",
    "version": 3
   },
   "file_extension": ".py",
   "mimetype": "text/x-python",
   "name": "python",
   "nbconvert_exporter": "python",
   "pygments_lexer": "ipython3",
   "version": "3.9.7"
  }
 },
 "nbformat": 4,
 "nbformat_minor": 5
}
